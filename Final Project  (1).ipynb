{
 "cells": [
  {
   "cell_type": "markdown",
   "metadata": {},
   "source": [
    "In this scenario, we are a small independent movie theater in State College that is trying to maximize profit.  To do this we want to see which genre of movie is the most popular for our customers.  We are only a small theater so we can’t have that many movies in the theater at the same time.  We are also looking to cut back on staff so I want to find if any of our employees have problems dealing with customers.  By making cuts to staff and choosing movies that our customers like we will be able to maximize profit.  We picked this topic because we believed a movie theater would be a good background for a database.  Movie theaters have many moving parts such as types of tickets, employees, customer and employee interactions, and the movies themselves.  We envisioned that we could make a strong ER Diagram and database for a scenario dealing with a database.  We started the project by brainstorming what the different databases could be and how we could connect them.  We knew from the beginning that we wanted a table for movies, customers, and employees but we had to figure out how to make connections between some of these.  For example, to connect our customer and employee table we created a transaction table where we could see which customers interacted with which employees during a transaction.  We reached the final ER Diagram by making sure that all tables were interconnected in some way, there was no repeated data, and everything was in 1st form. \n",
    " \n",
    " \n"
   ]
  },
  {
   "cell_type": "code",
   "execution_count": 2,
   "metadata": {
    "scrolled": false
   },
   "outputs": [
    {
     "data": {
      "text/html": [
       "\n",
       "        <iframe\n",
       "            width=\"560\"\n",
       "            height=\"315\"\n",
       "            src=\"https://www.youtube.com/embed/cyP_LD-RoEM\"\n",
       "            frameborder=\"0\"\n",
       "            allowfullscreen\n",
       "        ></iframe>\n",
       "        "
      ],
      "text/plain": [
       "<IPython.lib.display.IFrame at 0x18945dec518>"
      ]
     },
     "execution_count": 2,
     "metadata": {},
     "output_type": "execute_result"
    }
   ],
   "source": [
    "from IPython.display import IFrame\n",
    "# https://www.youtube.com/embed/xxxxxxxxxxxx\n",
    "IFrame(\"https://www.youtube.com/embed/cyP_LD-RoEM\", 560, 315)"
   ]
  },
  {
   "cell_type": "markdown",
   "metadata": {},
   "source": [
    "Our ER diagram is centered around the Real-Time Customers table.  This is the table that tells us which movies our customers are going to which allows us to find out which movie genre is the most popular.  There are four tables connected to the Real-Time Customers table.  The Real-Time Genres table gives the name of the movie a customer saw and its primary genre, this is how we can find the genre of the movie the customer saw.  The Tickets table shows us which type of ticket the customer bought, this will give us a better idea of how much money is being spent per movie.  A movie that may have more children tickets bought but be less profitable than a movie that has an equal amount of adult tickets bought.  The Loyalty Program table tells us whether or not a customer is in our loyalty program.  The Employees table is our second central table, it lists employees, their jobs, and salaries.  Connected to this table is the Job table that lists the minimum and maximum salaries that each position has and its job title. The final table is the Real-Time Transactions table, this table connects the Real-Time Customers table and the Employees table.  We are looking to downsize our employees and with this table, if a customer complains about a transaction we can find which employee helped them using the Transaction table and how the customer rated that transaction.  If worst comes to worst we will then know which employees we can let go."
   ]
  },
  {
   "cell_type": "markdown",
   "metadata": {},
   "source": [
    "To create the tables we spent time figuring out how to connect them.  Most of the creation was easy, from the beginning we knew what we wanted to do with the customer, ticket, loyalty, and genre table.  We also knew we wanted the jobs and employees tables but we weren’t sure how to connect these to the customers table at first.  After some discussion, we came up with the idea for the transaction table as a way to connect the two different parts of our database.  To insert data we came up with names and current movie titles.  We then connected this data to other tables we made by inserting the same data.  For example, on the Customers table, we would mark if a customer was a member of the loyalty program and if they were, their customer ID would then show up in the Loyalty Program table.  We continued to do this throughout our database as we populated it with data so that the tables and databases would be interconnected. "
   ]
  },
  {
   "cell_type": "code",
   "execution_count": 3,
   "metadata": {},
   "outputs": [],
   "source": [
    "import sqlite3"
   ]
  },
  {
   "cell_type": "code",
   "execution_count": 4,
   "metadata": {},
   "outputs": [],
   "source": [
    "connectionToDatabase = sqlite3.connect('RealTimeCustomers')\n",
    "connectionToDatabase = sqlite3.connect('Employees')\n",
    "connectionToDatabase = sqlite3.connect('Jobs')\n",
    "connectionToDatabase = sqlite3.connect('RealTimeGenres')\n",
    "connectionToDatabase = sqlite3.connect('Tickets')\n",
    "connectionToDatabase = sqlite3.connect('LoyaltyProgram')\n",
    "connectionTODatabase = sqlite3.connect('RealTimeTransactions')"
   ]
  },
  {
   "cell_type": "code",
   "execution_count": 5,
   "metadata": {},
   "outputs": [
    {
     "data": {
      "text/plain": [
       "<sqlite3.Cursor at 0x1f81fd22f80>"
      ]
     },
     "execution_count": 5,
     "metadata": {},
     "output_type": "execute_result"
    }
   ],
   "source": [
    "\n",
    "cursor = connectionToDatabase.cursor() \n",
    "cursor.execute('''drop table IF EXISTS RealTimeCustomers''')\n",
    "connectionToDatabase.commit()\n",
    "\n",
    "cursor.execute('''create table IF NOT EXISTS RealTimeCustomers (CustomerID text PRIMARY KEY, Fname text, Lname text, MovieID text, TicketID text, LoyaltyID text)''')\n",
    "connectionToDatabase.commit()\n",
    "\n",
    "\n",
    "\n",
    "cursor = connectionToDatabase.cursor() \n",
    "cursor.execute('''drop table IF EXISTS Employees''')\n",
    "connectionToDatabase.commit()\n",
    "\n",
    "cursor.execute('''create table IF NOT EXISTS Employees (EmployeeID text PRIMARY KEY, JobID text, Salary text)''')\n",
    "connectionToDatabase.commit()\n",
    "\n",
    "\n",
    "\n",
    "cursor = connectionToDatabase.cursor()\n",
    "cursor.execute('''drop table IF EXISTS Jobs''')\n",
    "connectionToDatabase.commit()\n",
    "\n",
    "cursor.execute('''create table IF NOT EXISTS Jobs (JobID text PRIMARY KEY, Job_Title text, Minimum_Salary real, Maximum_Salary real)''')\n",
    "connectionToDatabase.commit()\n",
    "\n",
    "\n",
    "\n",
    "cursor = connectionToDatabase.cursor() \n",
    "cursor.execute('''drop table IF EXISTS RealTimeGenres''')\n",
    "connectionToDatabase.commit()\n",
    "\n",
    "cursor.execute('''create table IF NOT EXISTS RealTimeGenres (MovieID text PRIMARY KEY, title text, Primary_Genre text)''')\n",
    "connectionToDatabase.commit()\n",
    "\n",
    "\n",
    "\n",
    "cursor = connectionToDatabase.cursor() \n",
    "cursor.execute('''drop table IF EXISTS Tickets''')\n",
    "connectionToDatabase.commit()\n",
    "\n",
    "cursor.execute('''create table IF NOT EXISTS Tickets (TicketID text PRIMARY KEY, cost float, Ticket_Type text)''')\n",
    "connectionToDatabase.commit()\n",
    "\n",
    "\n",
    "\n",
    "cursor = connectionToDatabase.cursor() \n",
    "cursor.execute('''drop table IF EXISTS LoyaltyProgram''')\n",
    "connectionToDatabase.commit()\n",
    "\n",
    "cursor.execute('''create table IF NOT EXISTS LoyaltyProgram (LoyaltyID text PRIMARY KEY, CustomerID text)''')\n",
    "connectionToDatabase.commit()\n",
    "\n",
    "cursor = connectionToDatabase.cursor()\n",
    "cursor.execute('''drop table IF EXISTS RealTimeTransactions''')\n",
    "\n",
    "cursor.execute('''create table IF NOT EXISTS RealTimeTransactions (TransactionID text PRIMARY KEY, CustomerID text, EmployeeID text, CustomerRating real)''')"
   ]
  },
  {
   "cell_type": "code",
   "execution_count": 6,
   "metadata": {},
   "outputs": [],
   "source": [
    "cursor.execute('''insert into RealTimeCustomers values ('01', 'John', 'Doe', '101', '202', '301' );''')\n",
    "connectionToDatabase.commit()\n",
    "cursor.execute('''insert into RealTimeCustomers values ('02', 'Jane', 'Adams', '102', '204', 'None' );''')\n",
    "connectionToDatabase.commit()\n",
    "cursor.execute('''insert into RealTimeCustomers values ('03', 'Brian', 'Lee', '101', '204', '302' );''')\n",
    "connectionToDatabase.commit()\n",
    "cursor.execute('''insert into RealTimeCustomers values ('04', 'Greg', 'Man', '103', '201', 'None' );''')\n",
    "connectionToDatabase.commit()\n",
    "cursor.execute('''insert into RealTimeCustomers values ('05', 'Anne', 'Woman', '101', '204', '303' );''')\n",
    "connectionToDatabase.commit()\n",
    "cursor.execute('''insert into RealTimeCustomers values ('06', 'Ryan', 'Child', '102', '203', '304' );''')\n",
    "connectionToDatabase.commit()\n",
    "\n",
    "\n",
    "cursor.execute('''insert into Employees values ('401', '501', '$12.50');''')\n",
    "connectionToDatabase.commit()\n",
    "cursor.execute('''insert into Employees values ('402', '502', '$10.25');''')\n",
    "connectionToDatabase.commit()\n",
    "cursor.execute('''insert into Employees values ('403', '504', '$11.25');''')\n",
    "connectionToDatabase.commit()\n",
    "cursor.execute('''insert into Employees values ('404', '505', '$16.50');''')\n",
    "connectionToDatabase.commit()\n",
    "cursor.execute('''insert into Employees values ('405', '501', '$11.00');''')\n",
    "connectionToDatabase.commit()\n",
    "\n",
    "cursor.execute('''insert into Jobs values ('501', 'Ticket Booth Attendant', '$11.00', '$12.50');''')\n",
    "connectionToDatabase.commit()\n",
    "cursor.execute('''insert into Jobs values ('502', 'Snack Stand Attendant', '$10.00', '$12.00');''')\n",
    "connectionToDatabase.commit()\n",
    "cursor.execute('''insert into Jobs values ('503', 'Janitor', '$10.50', '$12.50');''')\n",
    "connectionToDatabase.commit()\n",
    "cursor.execute('''insert into Jobs values ('504', 'Ticket Checker', '$8.00', '$9.00');''')\n",
    "connectionToDatabase.commit()\n",
    "cursor.execute('''insert into Jobs values ('505', 'Manager', '$15.00', '$20.00');''')\n",
    "connectionToDatabase.commit()\n",
    "\n",
    "cursor.execute('''insert into RealTimeGenres values ('101', 'Action Movie', 'Action');''')\n",
    "connectionToDatabase.commit()\n",
    "cursor.execute('''insert into RealTimeGenres values ('102', 'Comedy Movie', 'Comedy');''')\n",
    "connectionToDatabase.commit()\n",
    "cursor.execute('''insert into RealTimeGenres values ('103', 'Kids Movie', 'Children');''')\n",
    "connectionToDatabase.commit()\n",
    "cursor.execute('''insert into RealTimeGenres values ('104', 'Horror Movie', 'Horror');''')\n",
    "connectionToDatabase.commit()\n",
    "cursor.execute('''insert into RealTimeGenres values ('105', 'Animated Movie', 'Animated');''')\n",
    "connectionToDatabase.commit()\n",
    "\n",
    "cursor.execute('''insert into Tickets values ('201', 12.00, 'Adult');''')\n",
    "connectionToDatabase.commit()\n",
    "cursor.execute('''insert into Tickets values ('202', 5.00, 'Child');''')\n",
    "connectionToDatabase.commit()\n",
    "cursor.execute('''insert into Tickets values ('203', 7.00, 'Elder');''')\n",
    "connectionToDatabase.commit()\n",
    "cursor.execute('''insert into Tickets values ('204', 10.00, 'Student');''')\n",
    "connectionToDatabase.commit()\n",
    "cursor.execute('''insert into Tickets values ('205', 8.00, 'Matinee');''')\n",
    "connectionToDatabase.commit()\n",
    "\n",
    "cursor.execute('''insert into LoyaltyProgram values ('301', '01');''')\n",
    "connectionToDatabase.commit()\n",
    "cursor.execute('''insert into LoyaltyProgram values ('302', '03');''')\n",
    "connectionToDatabase.commit()\n",
    "cursor.execute('''insert into LoyaltyProgram values ('303', '05');''')\n",
    "connectionToDatabase.commit()\n",
    "cursor.execute('''insert into LoyaltyProgram values ('304', '06');''')\n",
    "connectionToDatabase.commit()\n",
    "cursor.execute('''insert into LoyaltyProgram values ('305', '09');''')\n",
    "connectionToDatabase.commit()\n",
    "\n",
    "cursor.execute('''insert into RealTimeTransactions values ('601', '01', 401, 9);''')\n",
    "connectionToDatabase.commit()\n",
    "cursor.execute('''insert into RealTimeTransactions values ('602', '01', 402, 10);''')\n",
    "connectionToDatabase.commit()\n",
    "cursor.execute('''insert into RealTimeTransactions values ('603', '02', 405, 4);''')\n",
    "connectionToDatabase.commit()\n",
    "cursor.execute('''insert into RealTimeTransactions values ('604', '03', 405, 3);''')\n",
    "connectionToDatabase.commit()\n",
    "cursor.execute('''insert into RealTimeTransactions values ('605', '04', 401, 10);''')\n",
    "connectionToDatabase.commit()\n",
    "cursor.execute('''insert into RealTimeTransactions values ('606', '05', 405, 2);''')\n",
    "connectionToDatabase.commit()\n",
    "cursor.execute('''insert into RealTimeTransactions values ('607', '02', 403, 9);''')\n",
    "connectionToDatabase.commit()\n",
    "cursor.execute('''insert into RealTimeTransactions values ('608', '03', 404, 9);''')\n",
    "connectionToDatabase.commit()\n",
    "\n"
   ]
  },
  {
   "cell_type": "markdown",
   "metadata": {},
   "source": [
    " \n",
    "In our scenario, we are a small, independent movie theater in State College.  Since we don’t have many theaters we need to know which genre of movie brings in the largest audience.  When we figure this out we can show more of that genre.  We also have too many employees and are looking to let one or two go in order to save costs.  We plan on using our database to see which genre is seen the most, which group of patrons see the most movies based on types of tickets bought, and which employees have the worst customer reviews so we know who to let go. \n"
   ]
  },
  {
   "cell_type": "markdown",
   "metadata": {},
   "source": [
    "\"1. What is each employees average  transaction rating?\""
   ]
  },
  {
   "cell_type": "code",
   "execution_count": 7,
   "metadata": {},
   "outputs": [
    {
     "name": "stdout",
     "output_type": "stream",
     "text": [
      "('401', 9.5)\n",
      "('402', 10.0)\n",
      "('403', 9.0)\n",
      "('404', 9.0)\n",
      "('405', 3.0)\n"
     ]
    }
   ],
   "source": [
    "cursor.execute('''SELECT EmployeeID, AVG(CustomerRating) FROM RealTimeTransactions GROUP BY EmployeeID''')\n",
    "for row in cursor.fetchall():\n",
    "  print (row)"
   ]
  },
  {
   "cell_type": "code",
   "execution_count": 8,
   "metadata": {},
   "outputs": [
    {
     "data": {
      "text/plain": [
       "'This question shows us the average customer rating of an employee for each transaction.  This question helps us find which employee or employees have bad ratings.  Once we find employees with bad ratings we will know who we can let go to save more costs.  In this case employee 405 is clearly the worst with an average of 3.0 for their rating.  Letting them go should save us money.'"
      ]
     },
     "execution_count": 8,
     "metadata": {},
     "output_type": "execute_result"
    }
   ],
   "source": [
    "\"This question shows us the average customer rating of an employee for each transaction.  This question helps us find which employee or employees have bad ratings.  Once we find employees with bad ratings we will know who we can let go to save more costs.  In this case employee 405 is clearly the worst with an average of 3.0 for their rating.  Letting them go should save us money.\""
   ]
  },
  {
   "cell_type": "markdown",
   "metadata": {},
   "source": [
    "\"2. Which movies (Top 3) were seen the most\""
   ]
  },
  {
   "cell_type": "code",
   "execution_count": 9,
   "metadata": {},
   "outputs": [
    {
     "name": "stdout",
     "output_type": "stream",
     "text": [
      "(3, 'Action Movie')\n",
      "(2, 'Comedy Movie')\n",
      "(1, 'Kids Movie')\n"
     ]
    }
   ],
   "source": [
    "cursor.execute('''SELECT count(RealTimeCustomers.MovieID), Title FROM RealTimeCustomers JOIN RealTimeGenres ON RealTimeCustomers.MovieID = RealTimeGenres.MovieID GROUP BY RealTimeCustomers.MovieID LIMIT 3''')\n",
    "for row in cursor.fetchall():\n",
    "  print (row)"
   ]
  },
  {
   "cell_type": "markdown",
   "metadata": {},
   "source": [
    "\"This is the most important question for our database.  We want to know which movies are the most popular so that we can bring more of those to the theater.  This way we can make the most money from the movies we are showing.  Clearly action movies get the most views so we would want more action movies in our theater.\""
   ]
  },
  {
   "cell_type": "markdown",
   "metadata": {},
   "source": [
    "\"3. Which type of ticket is purchased the most?\""
   ]
  },
  {
   "cell_type": "code",
   "execution_count": 10,
   "metadata": {},
   "outputs": [
    {
     "name": "stdout",
     "output_type": "stream",
     "text": [
      "(3, 'Student', 10.0)\n",
      "(1, 'Adult', 12.0)\n",
      "(1, 'Child', 5.0)\n",
      "(1, 'Elder', 7.0)\n"
     ]
    }
   ],
   "source": [
    "cursor.execute('''SELECT COUNT(Tickets.TicketID), Ticket_Type, Cost FROM Tickets JOIN RealTimeCustomers ON Tickets.TicketID = RealTimeCustomers.TicketID GROUP BY Tickets.TicketID ORDER BY COUNT(Tickets.TicketID) DESC''')\n",
    "for row in cursor.fetchall():\n",
    "  print (row)"
   ]
  },
  {
   "cell_type": "markdown",
   "metadata": {},
   "source": [
    "\"This question is important because it shows what type of audience we are getting.  If it were more children, we would want to pander to their tastes.  In this case it is more students so we have a better idea of what movies our target audience would want to see.  This paired with the previous question makes it easier for us to narrow down our list of which movies to show.\""
   ]
  }
 ],
 "metadata": {
  "kernelspec": {
   "display_name": "Python 3",
   "language": "python",
   "name": "python3"
  },
  "language_info": {
   "codemirror_mode": {
    "name": "ipython",
    "version": 3
   },
   "file_extension": ".py",
   "mimetype": "text/x-python",
   "name": "python",
   "nbconvert_exporter": "python",
   "pygments_lexer": "ipython3",
   "version": "3.7.3"
  }
 },
 "nbformat": 4,
 "nbformat_minor": 2
}
